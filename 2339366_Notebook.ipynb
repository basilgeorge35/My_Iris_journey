{
  "cells": [
    {
      "cell_type": "markdown",
      "metadata": {
        "id": "view-in-github",
        "colab_type": "text"
      },
      "source": [
        "<a href=\"https://colab.research.google.com/github/basilgeorge35/My_Iris_journey/blob/main/2339366_Notebook.ipynb\" target=\"_parent\"><img src=\"https://colab.research.google.com/assets/colab-badge.svg\" alt=\"Open In Colab\"/></a>"
      ]
    },
    {
      "cell_type": "markdown",
      "metadata": {
        "id": "DSE22gat82Kw"
      },
      "source": [
        "## Task 1.1"
      ]
    },
    {
      "cell_type": "markdown",
      "metadata": {
        "id": "zyMsCTm382Kz"
      },
      "source": [
        "2)\n",
        "Basil George  \n",
        "03/10/2023  \n",
        "2339366"
      ]
    },
    {
      "cell_type": "code",
      "source": [
        "#Task 1.3\n",
        "\n",
        "# 1)\n",
        "\n",
        "import numpy as np"
      ],
      "metadata": {
        "id": "Fnmm0izgKkGo"
      },
      "execution_count": null,
      "outputs": []
    },
    {
      "cell_type": "code",
      "execution_count": null,
      "metadata": {
        "id": "BYeONelx82Kz",
        "outputId": "bbf64a5b-d51b-4928-84cc-8a24f1524b17"
      },
      "outputs": [
        {
          "name": "stdout",
          "output_type": "stream",
          "text": [
            "Result: 815\n"
          ]
        }
      ],
      "source": [
        "# 3)\n",
        "\n",
        "x = 345\n",
        "val = 2*x + 5**3\n",
        "print(f\"Result: {val}\")"
      ]
    },
    {
      "cell_type": "code",
      "execution_count": null,
      "metadata": {
        "id": "XzUkycf982K0",
        "outputId": "424bf4f1-1c70-4715-af89-61844c88d480"
      },
      "outputs": [
        {
          "name": "stdout",
          "output_type": "stream",
          "text": [
            "Hello World\n"
          ]
        }
      ],
      "source": [
        "# 4)\n",
        "\n",
        "print(\"Hello World\")"
      ]
    },
    {
      "cell_type": "code",
      "execution_count": null,
      "metadata": {
        "id": "5JklTXq882K1"
      },
      "outputs": [],
      "source": [
        "#5)\n",
        "\n",
        "def f(w,x,b):\n",
        "    result = w*x + b\n",
        "    print(\"Result: \",result)"
      ]
    },
    {
      "cell_type": "code",
      "execution_count": null,
      "metadata": {
        "id": "GyQNkqoQ82K1",
        "outputId": "cf787fe9-dc5c-463a-ce96-0e1263544b65"
      },
      "outputs": [
        {
          "name": "stdout",
          "output_type": "stream",
          "text": [
            "Result:  815\n"
          ]
        }
      ],
      "source": [
        "w = 2\n",
        "x = 345\n",
        "b = 5**3\n",
        "f(w,x,b)"
      ]
    },
    {
      "cell_type": "markdown",
      "metadata": {
        "id": "2K4H6xZw82K2"
      },
      "source": [
        "## Task 1.2"
      ]
    },
    {
      "cell_type": "code",
      "execution_count": null,
      "metadata": {
        "id": "w4pu2chK82K2"
      },
      "outputs": [],
      "source": [
        "#1)\n",
        "\n",
        "my_list = [\"one\", \"two\", \"three\", \"four\", \"five\"]"
      ]
    },
    {
      "cell_type": "code",
      "execution_count": null,
      "metadata": {
        "scrolled": true,
        "id": "qYTHCjzy82K2",
        "outputId": "a1e31c4c-8c49-4700-bdd6-5b07e1f34d06"
      },
      "outputs": [
        {
          "name": "stdout",
          "output_type": "stream",
          "text": [
            "five\n",
            "four\n",
            "three\n",
            "two\n",
            "one\n"
          ]
        }
      ],
      "source": [
        "#2)\n",
        "\n",
        "l = int(len(my_list) - 1)\n",
        "for i in range(0,5):\n",
        "    print(my_list[l-i])"
      ]
    },
    {
      "cell_type": "code",
      "execution_count": null,
      "metadata": {
        "id": "RJ2-tUqV82K3"
      },
      "outputs": [],
      "source": [
        "#3)\n",
        "\n",
        "def equals_100(x):\n",
        "    if x == 100:\n",
        "        return True\n",
        "    else:\n",
        "        return False"
      ]
    },
    {
      "cell_type": "code",
      "execution_count": null,
      "metadata": {
        "id": "bNGHEf6U82K3",
        "outputId": "8f085f19-4e02-4eff-9a56-9fee2215bf67"
      },
      "outputs": [
        {
          "data": {
            "text/plain": [
              "True"
            ]
          },
          "execution_count": 11,
          "metadata": {},
          "output_type": "execute_result"
        }
      ],
      "source": [
        "x = 100\n",
        "equals_100(x)"
      ]
    },
    {
      "cell_type": "code",
      "execution_count": null,
      "metadata": {
        "id": "h68z5Jk-82K3",
        "outputId": "a31de59a-a03b-4d99-9880-76eebe877695"
      },
      "outputs": [
        {
          "name": "stdout",
          "output_type": "stream",
          "text": [
            "{'data_name': 'Animal counts', 'label': ['cat', 'dog', 'fish'], 'count': [2, 5, 10]}\n"
          ]
        }
      ],
      "source": [
        "#4)\n",
        "\n",
        "my_dictionary = {\n",
        "    \"data_name\" : \"Animal counts\",\n",
        "    \"label\" : [\"cat\", \"dog\", \"fish\"],\n",
        "    \"count\" : [2, 5, 10]\n",
        "}\n",
        "print(my_dictionary)"
      ]
    },
    {
      "cell_type": "code",
      "execution_count": null,
      "metadata": {
        "id": "_BleELea82K3",
        "outputId": "cc7d2f01-5991-48bb-fff7-d7149be1f76d"
      },
      "outputs": [
        {
          "data": {
            "text/plain": [
              "[2, 5, 10]"
            ]
          },
          "execution_count": 15,
          "metadata": {},
          "output_type": "execute_result"
        }
      ],
      "source": [
        "#5)\n",
        "\n",
        "my_dictionary[\"count\"]"
      ]
    },
    {
      "cell_type": "code",
      "execution_count": null,
      "metadata": {
        "id": "zEAAnthn82K3",
        "outputId": "77aa03e3-0269-4aa9-ec74-d4609cb53335"
      },
      "outputs": [
        {
          "name": "stdout",
          "output_type": "stream",
          "text": [
            "Animal name: dog, count: 5\n"
          ]
        }
      ],
      "source": [
        "#6)\n",
        "\n",
        "animal = my_dictionary[\"label\"][1]\n",
        "count = my_dictionary[\"count\"][1]\n",
        "print(f\"Animal name: {animal}, count: {count}\")"
      ]
    },
    {
      "cell_type": "markdown",
      "metadata": {
        "id": "ZPLzN2mg82K4"
      },
      "source": [
        "## Task 1.3"
      ]
    },
    {
      "cell_type": "code",
      "execution_count": null,
      "metadata": {
        "id": "eyUwXdO682K4"
      },
      "outputs": [],
      "source": [
        "# 1)\n",
        "\n",
        "# import numpy as np"
      ]
    },
    {
      "cell_type": "code",
      "execution_count": null,
      "metadata": {
        "id": "zLpMn0O082K4"
      },
      "outputs": [],
      "source": [
        "#2)\n",
        "\n",
        "array1 = np.random.randint(100,size=(2,3))\n",
        "array2 = np.random.randint(100,size=(3,4))"
      ]
    },
    {
      "cell_type": "code",
      "execution_count": null,
      "metadata": {
        "id": "D1q8FMc082K4",
        "outputId": "9709dfdd-b2e2-4f16-954d-433cb92cf4a1"
      },
      "outputs": [
        {
          "name": "stdout",
          "output_type": "stream",
          "text": [
            "[[ 9149  7629 12161 15591]\n",
            " [ 7439  2202  7494 14461]]\n"
          ]
        }
      ],
      "source": [
        "#3)\n",
        "\n",
        "array3 = np.matmul(array1, array2)\n",
        "print(array3)"
      ]
    },
    {
      "cell_type": "code",
      "execution_count": null,
      "metadata": {
        "id": "ytZY62P682K4",
        "outputId": "1f701e9e-232f-4376-a600-4e867acd8f6c"
      },
      "outputs": [
        {
          "data": {
            "text/plain": [
              "array([9149, 7439])"
            ]
          },
          "execution_count": 46,
          "metadata": {},
          "output_type": "execute_result"
        }
      ],
      "source": [
        "#4)\n",
        "\n",
        "array3.transpose()[0]"
      ]
    },
    {
      "cell_type": "code",
      "execution_count": null,
      "metadata": {
        "id": "XZYlNGAc82K4"
      },
      "outputs": [],
      "source": []
    },
    {
      "cell_type": "markdown",
      "source": [
        "## Task 1.4"
      ],
      "metadata": {
        "id": "J3Ksl9Cv9TFS"
      }
    },
    {
      "cell_type": "code",
      "source": [
        "# 1)\n",
        "\n",
        "data = np.load(\"/Iris_data.npy\")\n",
        "\n",
        "data.dtype.names"
      ],
      "metadata": {
        "id": "tXH_8Jxt9W6q"
      },
      "execution_count": null,
      "outputs": []
    },
    {
      "cell_type": "code",
      "source": [
        "# 2)\n",
        "\n",
        "print(\"The shape of the Iris matrix is \", data.shape)"
      ],
      "metadata": {
        "colab": {
          "base_uri": "https://localhost:8080/"
        },
        "id": "hWZjxQ5aG1ps",
        "outputId": "6458c49e-e325-4a6e-c8c8-187223c86e8a"
      },
      "execution_count": null,
      "outputs": [
        {
          "output_type": "stream",
          "name": "stdout",
          "text": [
            "The shape of the Iris matrix is  (150, 4)\n"
          ]
        }
      ]
    },
    {
      "cell_type": "code",
      "source": [
        "import matplotlib.pyplot as plt"
      ],
      "metadata": {
        "id": "VhRRcfwuRzPP"
      },
      "execution_count": null,
      "outputs": []
    },
    {
      "cell_type": "code",
      "source": [
        "# 3)\n",
        "\n",
        "plt.figure()\n",
        "plt.scatter(data[:,0], data[:,1])\n",
        "plt.xlabel(\"Feature 1\")\n",
        "plt.ylabel(\"Feature 2\")\n",
        "plt.show()"
      ],
      "metadata": {
        "colab": {
          "base_uri": "https://localhost:8080/",
          "height": 452
        },
        "id": "S3Kbb9FDLqNU",
        "outputId": "0fbbbae1-ed9d-461b-a0dd-bf9eaed3a95a"
      },
      "execution_count": null,
      "outputs": [
        {
          "output_type": "display_data",
          "data": {
            "text/plain": [
              "<Figure size 640x480 with 1 Axes>"
            ],
            "image/png": "[encoded data removed]"
          },
          "metadata": {}
        }
      ]
    },
    {
      "cell_type": "code",
      "source": [
        "# 4)\n",
        "\n",
        "plt.figure()\n",
        "plt.scatter(data[:,0], data[:,1])\n",
        "plt.xlabel(\"Length of the sepal (in cm)\")\n",
        "plt.ylabel(\"Width of sepal (in cm)\")\n",
        "plt.title(\"Scatter plot of Iris data\")\n",
        "plt.show()"
      ],
      "metadata": {
        "colab": {
          "base_uri": "https://localhost:8080/",
          "height": 472
        },
        "id": "7t9aBIKSOhgF",
        "outputId": "12f498fc-8c1e-4f50-e88c-ee6919f974eb"
      },
      "execution_count": null,
      "outputs": [
        {
          "output_type": "display_data",
          "data": {
            "text/plain": [
              "<Figure size 640x480 with 1 Axes>"
            ],
            "image/png": "[encoded data removed]"
          },
          "metadata": {}
        }
      ]
    },
    {
      "cell_type": "code",
      "source": [],
      "metadata": {
        "id": "JlKQREQMU4vx"
      },
      "execution_count": null,
      "outputs": []
    }
  ],
  "metadata": {
    "kernelspec": {
      "display_name": "Python 3",
      "language": "python",
      "name": "python3"
    },
    "language_info": {
      "codemirror_mode": {
        "name": "ipython",
        "version": 3
      },
      "file_extension": ".py",
      "mimetype": "text/x-python",
      "name": "python",
      "nbconvert_exporter": "python",
      "pygments_lexer": "ipython3",
      "version": "3.7.9"
    },
    "colab": {
      "provenance": [],
      "include_colab_link": true
    }
  },
  "nbformat": 4,
  "nbformat_minor": 0
}